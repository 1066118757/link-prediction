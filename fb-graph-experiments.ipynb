{
 "cells": [
  {
   "cell_type": "markdown",
   "metadata": {},
   "source": [
    "# NetworkX Random Graph Experiments\n",
    "---\n",
    "Run link prediction tests on all included Facebook ego networks"
   ]
  },
  {
   "cell_type": "code",
   "execution_count": null,
   "metadata": {
    "collapsed": true
   },
   "outputs": [],
   "source": [
    "import networkx as nx\n",
    "import matplotlib.pyplot as plt\n",
    "import pandas as pd\n",
    "import link_prediction_scores as lp\n",
    "\n",
    "RANDOM_SEED = 0"
   ]
  },
  {
   "cell_type": "markdown",
   "metadata": {},
   "source": [
    "### Load in FB Graphs"
   ]
  },
  {
   "cell_type": "code",
   "execution_count": null,
   "metadata": {},
   "outputs": [],
   "source": [
    "FB_EGO_USERS = ['0', '107', '1684', '1912', '3437', '348', '3980', '414', '686', '698']\n",
    "\n",
    "fb_graphs = {} # Dictionary to store all FB ego network graphs\n",
    "\n",
    "### ----- Read in all FB graphs ----- ###\n",
    "# Store graphs in dictionary as (adj, features) tuples\n",
    "for user in FB_EGO_USERS:\n",
    "    edges_dir = 'facebook/' + user + '.edges'\n",
    "    feats_dir = 'facebook/' + user + '.feat'\n",
    "    \n",
    "    # Read edge-list\n",
    "    f = open(edges_dir)\n",
    "    g = nx.read_edgelist(f, nodetype=int)\n",
    "\n",
    "    # read features into dataframe\n",
    "    df = pd.read_table(feats_dir, sep=' ', header=None, index_col=0)\n",
    "    \n",
    "    # only keep connected nodes (drops unconnected nodes)\n",
    "    df = df.loc[g.nodes()] \n",
    "    \n",
    "    adj = nx.adjacency_matrix(g) # get adjacency matrix in sparse format\n",
    "    features = df.values # features matrix\n",
    "    \n",
    "    # Store in dict\n",
    "    fb_graphs[user] = (adj, features)\n",
    "    \n",
    "    \n",
    "### ----- Read in combined FB graph ----- ###\n",
    "f_combined = open('facebook/facebook_combined.txt')\n",
    "g_combined = nx.read_edgelist(f_combined, nodetype=int)\n",
    "adj_combined = nx.adjacency_matrix(g_combined) # get adjacency matrix in sparse format\n",
    "fb_graphs['combined'] = (adj_combined, None)"
   ]
  },
  {
   "cell_type": "markdown",
   "metadata": {},
   "source": [
    "### Run Link Prediction Tests"
   ]
  },
  {
   "cell_type": "code",
   "execution_count": null,
   "metadata": {},
   "outputs": [],
   "source": [
    "lp_results = {}\n",
    "for g_name, graph_tuple in fb_graphs.iteritems():\n",
    "    adj = graph_tuple[0]\n",
    "    feat = graph_tuple[1]\n",
    "    print \"Current graph: \" + g_name\n",
    "    lp_results[g_name] = lp.calculate_all_scores(adj, feat, \\\n",
    "                                                 test_frac=.3, val_frac=.1, \\\n",
    "                                                 random_state=0, verbose=0)"
   ]
  },
  {
   "cell_type": "code",
   "execution_count": null,
   "metadata": {
    "collapsed": true
   },
   "outputs": [],
   "source": []
  }
 ],
 "metadata": {
  "kernelspec": {
   "display_name": "Python [conda env:gae]",
   "language": "python",
   "name": "conda-env-gae-py"
  },
  "language_info": {
   "codemirror_mode": {
    "name": "ipython",
    "version": 2
   },
   "file_extension": ".py",
   "mimetype": "text/x-python",
   "name": "python",
   "nbconvert_exporter": "python",
   "pygments_lexer": "ipython2",
   "version": "2.7.13"
  }
 },
 "nbformat": 4,
 "nbformat_minor": 2
}

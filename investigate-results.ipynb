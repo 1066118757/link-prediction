{
 "cells": [
  {
   "cell_type": "markdown",
   "metadata": {},
   "source": [
    "# Investigate Results\n",
    "----\n",
    "Load in `results` files and...\n",
    "1. Take a peek at raw **test ROC results**\n",
    "2. Generate **bar plots** of each link prediction method given an inputted network, visibility value (pct. hidden edges), and metric (e.g. test ROC), along with some pre-calculated network statistics (e.g. num. nodes, avg. clustering coefficient, etc.)\n",
    "3. Plot **ROC curves** for inputted network, visibility, and link prediction method"
   ]
  },
  {
   "cell_type": "markdown",
   "metadata": {},
   "source": [
    "## 1. Investigate ROC Results"
   ]
  },
  {
   "cell_type": "code",
   "execution_count": 30,
   "metadata": {
    "collapsed": true
   },
   "outputs": [],
   "source": [
    "import networkx as nx\n",
    "import matplotlib.pyplot as plt\n",
    "import link_prediction_scores as lp\n",
    "import pickle\n",
    "\n",
    "RANDOM_SEED = 0"
   ]
  },
  {
   "cell_type": "code",
   "execution_count": 64,
   "metadata": {
    "collapsed": true
   },
   "outputs": [],
   "source": [
    "fb_results = None\n",
    "with open('./results/fb-experiment-3-results.pkl', 'rb') as f:\n",
    "    fb_results = pickle.load(f)"
   ]
  },
  {
   "cell_type": "code",
   "execution_count": 69,
   "metadata": {},
   "outputs": [],
   "source": [
    "roc = {}\n",
    "for experiment_name, method_dict in fb_results.iteritems():\n",
    "    for method, results in method_dict.iteritems():\n",
    "        experiment_method = experiment_name + '-' + method\n",
    "        roc[experiment_method] = results['test_roc']"
   ]
  },
  {
   "cell_type": "code",
   "execution_count": 70,
   "metadata": {},
   "outputs": [
    {
     "data": {
      "text/plain": [
       "{'fb-0-0.25-hidden-aa': 0.94809308795322789,\n",
       " 'fb-0-0.25-hidden-gae': 0.8908721426203946,\n",
       " 'fb-0-0.25-hidden-jc': 0.80814057737134659,\n",
       " 'fb-0-0.25-hidden-n2v_dot_prod': 0.81150939192897242,\n",
       " 'fb-0-0.25-hidden-n2v_edge_emb': 0.91215001005210805,\n",
       " 'fb-0-0.25-hidden-pa': 0.87182747322607468,\n",
       " 'fb-0-0.25-hidden-sc': 0.84677870691856716,\n",
       " 'fb-0-0.5-hidden-aa': 0.89122115317257988,\n",
       " 'fb-0-0.5-hidden-gae': 0.87930170651998452,\n",
       " 'fb-0-0.5-hidden-jc': 0.76956612117723378,\n",
       " 'fb-0-0.5-hidden-n2v_dot_prod': 0.77747853524970378,\n",
       " 'fb-0-0.5-hidden-n2v_edge_emb': 0.89029982121591444,\n",
       " 'fb-0-0.5-hidden-pa': 0.8410207444362211,\n",
       " 'fb-0-0.5-hidden-sc': 0.85001172604308484,\n",
       " 'fb-0-0.75-hidden-aa': 0.69853800528634769,\n",
       " 'fb-0-0.75-hidden-gae': 0.8074368251455708,\n",
       " 'fb-0-0.75-hidden-jc': 0.65428835053723,\n",
       " 'fb-0-0.75-hidden-n2v_dot_prod': 0.68109375018026885,\n",
       " 'fb-0-0.75-hidden-n2v_edge_emb': 0.82521796665978286,\n",
       " 'fb-0-0.75-hidden-pa': 0.81283695851566917,\n",
       " 'fb-0-0.75-hidden-sc': 0.80727847699654232,\n",
       " 'fb-107-0.25-hidden-aa': 0.96965049056816977,\n",
       " 'fb-107-0.25-hidden-gae': 0.94754967920770794,\n",
       " 'fb-107-0.25-hidden-jc': 0.95674670685255792,\n",
       " 'fb-107-0.25-hidden-n2v_dot_prod': 0.90489564749952545,\n",
       " 'fb-107-0.25-hidden-n2v_edge_emb': 0.96078958556055793,\n",
       " 'fb-107-0.25-hidden-pa': 0.81960950512471931,\n",
       " 'fb-107-0.25-hidden-sc': 0.94464957143788397,\n",
       " 'fb-107-0.5-hidden-aa': 0.95779777870917215,\n",
       " 'fb-107-0.5-hidden-gae': 0.9410444999906098,\n",
       " 'fb-107-0.5-hidden-jc': 0.93702844868310464,\n",
       " 'fb-107-0.5-hidden-n2v_dot_prod': 0.88793373666854469,\n",
       " 'fb-107-0.5-hidden-n2v_edge_emb': 0.95152378001015958,\n",
       " 'fb-107-0.5-hidden-pa': 0.82192689111615325,\n",
       " 'fb-107-0.5-hidden-sc': 0.93718989680274711,\n",
       " 'fb-107-0.75-hidden-aa': 0.8801685815919631,\n",
       " 'fb-107-0.75-hidden-gae': 0.9313395855846176,\n",
       " 'fb-107-0.75-hidden-jc': 0.84925346272984625,\n",
       " 'fb-107-0.75-hidden-n2v_dot_prod': 0.85137887863569817,\n",
       " 'fb-107-0.75-hidden-n2v_edge_emb': 0.927972867950423,\n",
       " 'fb-107-0.75-hidden-pa': 0.81153376001587552,\n",
       " 'fb-107-0.75-hidden-sc': 0.93150598193477052,\n",
       " 'fb-1684-0.25-hidden-aa': 0.95465118068962618,\n",
       " 'fb-1684-0.25-hidden-gae': 0.92523824839729696,\n",
       " 'fb-1684-0.25-hidden-jc': 0.92675254249097272,\n",
       " 'fb-1684-0.25-hidden-n2v_dot_prod': 0.90080072363672015,\n",
       " 'fb-1684-0.25-hidden-n2v_edge_emb': 0.94186702648662712,\n",
       " 'fb-1684-0.25-hidden-pa': 0.81214459204696332,\n",
       " 'fb-1684-0.25-hidden-sc': 0.92018344498716298,\n",
       " 'fb-1684-0.5-hidden-aa': 0.93080112021718175,\n",
       " 'fb-1684-0.5-hidden-gae': 0.90681727809823232,\n",
       " 'fb-1684-0.5-hidden-jc': 0.89490901908781817,\n",
       " 'fb-1684-0.5-hidden-n2v_dot_prod': 0.88614318409443771,\n",
       " 'fb-1684-0.5-hidden-n2v_edge_emb': 0.93235148790305999,\n",
       " 'fb-1684-0.5-hidden-pa': 0.80477210264200094,\n",
       " 'fb-1684-0.5-hidden-sc': 0.90409703704218369,\n",
       " 'fb-1684-0.75-hidden-aa': 0.81737483676939815,\n",
       " 'fb-1684-0.75-hidden-gae': 0.89715948020690794,\n",
       " 'fb-1684-0.75-hidden-jc': 0.78763980141669609,\n",
       " 'fb-1684-0.75-hidden-n2v_dot_prod': 0.83991452701136216,\n",
       " 'fb-1684-0.75-hidden-n2v_edge_emb': 0.90206693344289057,\n",
       " 'fb-1684-0.75-hidden-pa': 0.79477606540654255,\n",
       " 'fb-1684-0.75-hidden-sc': 0.89312430111422747,\n",
       " 'fb-1912-0.25-hidden-aa': 0.97513915036242249,\n",
       " 'fb-1912-0.25-hidden-gae': 0.95639810666656533,\n",
       " 'fb-1912-0.25-hidden-jc': 0.97012190776907237,\n",
       " 'fb-1912-0.25-hidden-n2v_dot_prod': 0.8969759562566213,\n",
       " 'fb-1912-0.25-hidden-n2v_edge_emb': 0.96227946094255068,\n",
       " 'fb-1912-0.25-hidden-pa': 0.84792073009086921,\n",
       " 'fb-1912-0.25-hidden-sc': 0.9424804668304726,\n",
       " 'fb-1912-0.5-hidden-aa': 0.96815873571524158,\n",
       " 'fb-1912-0.5-hidden-gae': 0.95502811934114162,\n",
       " 'fb-1912-0.5-hidden-jc': 0.96089963684088076,\n",
       " 'fb-1912-0.5-hidden-n2v_dot_prod': 0.89250476945845103,\n",
       " 'fb-1912-0.5-hidden-n2v_edge_emb': 0.95784681532272675,\n",
       " 'fb-1912-0.5-hidden-pa': 0.84443136534360475,\n",
       " 'fb-1912-0.5-hidden-sc': 0.94799251502836568,\n",
       " 'fb-1912-0.75-hidden-aa': 0.93488168454781007,\n",
       " 'fb-1912-0.75-hidden-gae': 0.95158304030286567,\n",
       " 'fb-1912-0.75-hidden-jc': 0.91674438537904734,\n",
       " 'fb-1912-0.75-hidden-n2v_dot_prod': 0.86990034694434648,\n",
       " 'fb-1912-0.75-hidden-n2v_edge_emb': 0.95066176031171623,\n",
       " 'fb-1912-0.75-hidden-pa': 0.84074141926569024,\n",
       " 'fb-1912-0.75-hidden-sc': 0.94370854091706169,\n",
       " 'fb-3437-0.25-hidden-aa': 0.95248802628647811,\n",
       " 'fb-3437-0.25-hidden-gae': 0.92495776713447675,\n",
       " 'fb-3437-0.25-hidden-jc': 0.87963014529343331,\n",
       " 'fb-3437-0.25-hidden-n2v_dot_prod': 0.8825060023266752,\n",
       " 'fb-3437-0.25-hidden-n2v_edge_emb': 0.94997184475631791,\n",
       " 'fb-3437-0.25-hidden-pa': 0.79523402886067174,\n",
       " 'fb-3437-0.25-hidden-sc': 0.9020398628746813,\n",
       " 'fb-3437-0.5-hidden-aa': 0.91123538528207826,\n",
       " 'fb-3437-0.5-hidden-gae': 0.91511574734768331,\n",
       " 'fb-3437-0.5-hidden-jc': 0.84069391846736463,\n",
       " 'fb-3437-0.5-hidden-n2v_dot_prod': 0.85600739307195373,\n",
       " 'fb-3437-0.5-hidden-n2v_edge_emb': 0.94298019290209389,\n",
       " 'fb-3437-0.5-hidden-pa': 0.78538391154071052,\n",
       " 'fb-3437-0.5-hidden-sc': 0.89363300394018708,\n",
       " 'fb-3437-0.75-hidden-aa': 0.73486874885486031,\n",
       " 'fb-3437-0.75-hidden-gae': 0.86138350517570239,\n",
       " 'fb-3437-0.75-hidden-jc': 0.70208096616186055,\n",
       " 'fb-3437-0.75-hidden-n2v_dot_prod': 0.80271968230032398,\n",
       " 'fb-3437-0.75-hidden-n2v_edge_emb': 0.90562318013395005,\n",
       " 'fb-3437-0.75-hidden-pa': 0.76185363861167532,\n",
       " 'fb-3437-0.75-hidden-sc': 0.86708893765298733,\n",
       " 'fb-348-0.25-hidden-aa': 0.91653060913085938,\n",
       " 'fb-348-0.25-hidden-gae': 0.86523056030273438,\n",
       " 'fb-348-0.25-hidden-jc': 0.88858413696289062,\n",
       " 'fb-348-0.25-hidden-n2v_dot_prod': 0.74706268310546875,\n",
       " 'fb-348-0.25-hidden-n2v_edge_emb': 0.82605361938476562,\n",
       " 'fb-348-0.25-hidden-pa': 0.82325935363769531,\n",
       " 'fb-348-0.25-hidden-sc': 0.76077079772949219,\n",
       " 'fb-348-0.5-hidden-aa': 0.90077321587487269,\n",
       " 'fb-348-0.5-hidden-gae': 0.84657051012768836,\n",
       " 'fb-348-0.5-hidden-jc': 0.85595302375087567,\n",
       " 'fb-348-0.5-hidden-n2v_dot_prod': 0.7152629463757747,\n",
       " 'fb-348-0.5-hidden-n2v_edge_emb': 0.80549732994628864,\n",
       " 'fb-348-0.5-hidden-pa': 0.83278517720177092,\n",
       " 'fb-348-0.5-hidden-sc': 0.75375811598398668,\n",
       " 'fb-348-0.75-hidden-aa': 0.77228836745060636,\n",
       " 'fb-348-0.75-hidden-gae': 0.80864975561462538,\n",
       " 'fb-348-0.75-hidden-jc': 0.72670358845065419,\n",
       " 'fb-348-0.75-hidden-n2v_dot_prod': 0.6003630741111915,\n",
       " 'fb-348-0.75-hidden-n2v_edge_emb': 0.76229603158335624,\n",
       " 'fb-348-0.75-hidden-pa': 0.82337120975823963,\n",
       " 'fb-348-0.75-hidden-sc': 0.68677637340691766,\n",
       " 'fb-3980-0.25-hidden-aa': 0.93944444444444453,\n",
       " 'fb-3980-0.25-hidden-gae': 0.75666666666666671,\n",
       " 'fb-3980-0.25-hidden-jc': 0.66444444444444439,\n",
       " 'fb-3980-0.25-hidden-n2v_dot_prod': 0.61222222222222222,\n",
       " 'fb-3980-0.25-hidden-n2v_edge_emb': 0.62555555555555553,\n",
       " 'fb-3980-0.25-hidden-pa': 0.88777777777777778,\n",
       " 'fb-3980-0.25-hidden-sc': 0.20444444444444446,\n",
       " 'fb-3980-0.5-hidden-aa': 0.75632064247471731,\n",
       " 'fb-3980-0.5-hidden-gae': 0.63563355145746581,\n",
       " 'fb-3980-0.5-hidden-jc': 0.62596668649613318,\n",
       " 'fb-3980-0.5-hidden-n2v_dot_prod': 0.69556811421772757,\n",
       " 'fb-3980-0.5-hidden-n2v_edge_emb': 0.72159428911362289,\n",
       " 'fb-3980-0.5-hidden-pa': 0.81060380725758485,\n",
       " 'fb-3980-0.5-hidden-sc': 0.19727840571088637,\n",
       " 'fb-3980-0.75-hidden-aa': 0.57222002374356939,\n",
       " 'fb-3980-0.75-hidden-gae': 0.50833851546158626,\n",
       " 'fb-3980-0.75-hidden-jc': 0.54765673582452368,\n",
       " 'fb-3980-0.75-hidden-n2v_dot_prod': 0.60506529481598736,\n",
       " 'fb-3980-0.75-hidden-n2v_edge_emb': 0.58691842387924698,\n",
       " 'fb-3980-0.75-hidden-pa': 0.78591214879303517,\n",
       " 'fb-3980-0.75-hidden-sc': 0.2770365764034145,\n",
       " 'fb-414-0.25-hidden-aa': 0.95009057852963019,\n",
       " 'fb-414-0.25-hidden-gae': 0.92567347417534429,\n",
       " 'fb-414-0.25-hidden-jc': 0.91574893456189976,\n",
       " 'fb-414-0.25-hidden-n2v_dot_prod': 0.86310260787968052,\n",
       " 'fb-414-0.25-hidden-n2v_edge_emb': 0.90402585723781104,\n",
       " 'fb-414-0.25-hidden-pa': 0.79284234122691555,\n",
       " 'fb-414-0.25-hidden-sc': 0.71676940921946075,\n",
       " 'fb-414-0.5-hidden-aa': 0.92290997078159254,\n",
       " 'fb-414-0.5-hidden-gae': 0.91884769905040176,\n",
       " 'fb-414-0.5-hidden-jc': 0.87781318480642812,\n",
       " 'fb-414-0.5-hidden-n2v_dot_prod': 0.87600986121256397,\n",
       " 'fb-414-0.5-hidden-n2v_edge_emb': 0.89505295836376908,\n",
       " 'fb-414-0.5-hidden-pa': 0.78914444850255661,\n",
       " 'fb-414-0.5-hidden-sc': 0.64800493060628195,\n",
       " 'fb-414-0.75-hidden-aa': 0.77930520056190911,\n",
       " 'fb-414-0.75-hidden-gae': 0.90269961007705168,\n",
       " 'fb-414-0.75-hidden-jc': 0.74714294894517652,\n",
       " 'fb-414-0.75-hidden-n2v_dot_prod': 0.81850444545328283,\n",
       " 'fb-414-0.75-hidden-n2v_edge_emb': 0.87318901416450556,\n",
       " 'fb-414-0.75-hidden-pa': 0.76140522896140095,\n",
       " 'fb-414-0.75-hidden-sc': 0.6330295071409866,\n",
       " 'fb-686-0.25-hidden-aa': 0.91579787733633888,\n",
       " 'fb-686-0.25-hidden-gae': 0.83460129613975764,\n",
       " 'fb-686-0.25-hidden-jc': 0.84082706060728041,\n",
       " 'fb-686-0.25-hidden-n2v_dot_prod': 0.74867501241127621,\n",
       " 'fb-686-0.25-hidden-n2v_edge_emb': 0.78471467482456492,\n",
       " 'fb-686-0.25-hidden-pa': 0.82827489970347101,\n",
       " 'fb-686-0.25-hidden-sc': 0.64667444887225112,\n",
       " 'fb-686-0.5-hidden-aa': 0.85982829799211857,\n",
       " 'fb-686-0.5-hidden-gae': 0.82627885156689806,\n",
       " 'fb-686-0.5-hidden-jc': 0.77507787577406639,\n",
       " 'fb-686-0.5-hidden-n2v_dot_prod': 0.7227059485832239,\n",
       " 'fb-686-0.5-hidden-n2v_edge_emb': 0.8022555826609119,\n",
       " 'fb-686-0.5-hidden-pa': 0.81156033026834296,\n",
       " 'fb-686-0.5-hidden-sc': 0.66299024207168333,\n",
       " 'fb-686-0.75-hidden-aa': 0.72266201524815943,\n",
       " 'fb-686-0.75-hidden-gae': 0.74806909731010174,\n",
       " 'fb-686-0.75-hidden-jc': 0.67680627557592943,\n",
       " 'fb-686-0.75-hidden-n2v_dot_prod': 0.59262574328378581,\n",
       " 'fb-686-0.75-hidden-n2v_edge_emb': 0.72381337640658727,\n",
       " 'fb-686-0.75-hidden-pa': 0.8024816649556803,\n",
       " 'fb-686-0.75-hidden-sc': 0.63010203356187566,\n",
       " 'fb-698-0.25-hidden-aa': 0.89660000000000006,\n",
       " 'fb-698-0.25-hidden-gae': 0.93840000000000001,\n",
       " 'fb-698-0.25-hidden-jc': 0.80220000000000002,\n",
       " 'fb-698-0.25-hidden-n2v_dot_prod': 0.87919999999999998,\n",
       " 'fb-698-0.25-hidden-n2v_edge_emb': 0.87,\n",
       " 'fb-698-0.25-hidden-pa': 0.754,\n",
       " 'fb-698-0.25-hidden-sc': 0.36000000000000004,\n",
       " 'fb-698-0.5-hidden-aa': 0.83005680552461558,\n",
       " 'fb-698-0.5-hidden-gae': 0.84239251503675661,\n",
       " 'fb-698-0.5-hidden-jc': 0.69096680775228336,\n",
       " 'fb-698-0.5-hidden-n2v_dot_prod': 0.79900868790376478,\n",
       " 'fb-698-0.5-hidden-n2v_edge_emb': 0.87697705502339052,\n",
       " 'fb-698-0.5-hidden-pa': 0.76720873245711751,\n",
       " 'fb-698-0.5-hidden-sc': 0.44675874359545559,\n",
       " 'fb-698-0.75-hidden-aa': 0.6348792189209661,\n",
       " 'fb-698-0.75-hidden-gae': 0.69598518643211849,\n",
       " 'fb-698-0.75-hidden-jc': 0.60294798417641604,\n",
       " 'fb-698-0.75-hidden-n2v_dot_prod': 0.68811547849507615,\n",
       " 'fb-698-0.75-hidden-n2v_edge_emb': 0.6994360744045115,\n",
       " 'fb-698-0.75-hidden-pa': 0.6897041494823668,\n",
       " 'fb-698-0.75-hidden-sc': 0.43947268748421847,\n",
       " 'fb-combined-0.25-hidden-aa': 0.99100067950131099,\n",
       " 'fb-combined-0.25-hidden-gae': 0.83012029642299145,\n",
       " 'fb-combined-0.25-hidden-jc': 0.987829393648197,\n",
       " 'fb-combined-0.25-hidden-n2v_dot_prod': 0.96627245504922588,\n",
       " 'fb-combined-0.25-hidden-n2v_edge_emb': 0.99186883697948625,\n",
       " 'fb-combined-0.25-hidden-pa': 0.83322155981588231,\n",
       " 'fb-combined-0.25-hidden-sc': 0.985237058325932,\n",
       " 'fb-combined-0.5-hidden-aa': 0.97547464490627078,\n",
       " 'fb-combined-0.5-hidden-gae': 0.94654290871837998,\n",
       " 'fb-combined-0.5-hidden-jc': 0.97116067621063495,\n",
       " 'fb-combined-0.5-hidden-n2v_dot_prod': 0.96650516454956481,\n",
       " 'fb-combined-0.5-hidden-n2v_edge_emb': 0.99028227895130072,\n",
       " 'fb-combined-0.5-hidden-pa': 0.82994918041028243,\n",
       " 'fb-combined-0.5-hidden-sc': 0.9845492095084849,\n",
       " 'fb-combined-0.75-hidden-aa': 0.89410605612892569,\n",
       " 'fb-combined-0.75-hidden-gae': 0.78545194558014608,\n",
       " 'fb-combined-0.75-hidden-jc': 0.88882360224363044,\n",
       " 'fb-combined-0.75-hidden-n2v_dot_prod': 0.96282062728267093,\n",
       " 'fb-combined-0.75-hidden-n2v_edge_emb': 0.98658345262449088,\n",
       " 'fb-combined-0.75-hidden-pa': 0.82380709780992201,\n",
       " 'fb-combined-0.75-hidden-sc': 0.98158306515644711}"
      ]
     },
     "execution_count": 70,
     "metadata": {},
     "output_type": "execute_result"
    }
   ],
   "source": [
    "roc"
   ]
  },
  {
   "cell_type": "markdown",
   "metadata": {},
   "source": [
    "## 2. Generate Bar Plots with Network Statistics"
   ]
  },
  {
   "cell_type": "code",
   "execution_count": 134,
   "metadata": {
    "collapsed": true
   },
   "outputs": [],
   "source": [
    "# Generate bar plot given graph name (which ego network), frac_hidden, and metric to investigate (e.g. test ROC)\n",
    "def bar_plot(graph_name, frac_hidden, metric):\n",
    "    results_dict = fb_results['fb-{}-{}-hidden'.format(graph_name, frac_hidden)]\n",
    "    metric_dict = {}\n",
    "    for method, results_dict in results_dict.iteritems():\n",
    "        metric_dict[method] = results_dict[metric]\n",
    "        \n",
    "    plt.figure(figsize=(8, 4))\n",
    "    plt.bar(range(len(metric_dict)), metric_dict.values())\n",
    "    plt.xticks(range(len(metric_dict)), list(metric_dict.keys()))\n",
    "    plt.grid(linestyle='dashed')\n",
    "    plt.xlabel(\"Link prediction methods\")\n",
    "    plt.ylabel(\"Metric: {}\".format(metric))\n",
    "    plt.title(\"Link Prediction Results: FB {} graph, {} hidden\".format(graph_name, frac_hidden))\n",
    "    plt.show()"
   ]
  },
  {
   "cell_type": "code",
   "execution_count": 135,
   "metadata": {
    "collapsed": true
   },
   "outputs": [],
   "source": [
    "# Display network statistics for given network\n",
    "def display_fb_network_statistics(graph_name):\n",
    "    if graph_name == 'combined':\n",
    "        graph_statistics_dir = './network-statistics/fb-combined-statistics.pkl'\n",
    "    else:\n",
    "        graph_statistics_dir = './network-statistics/fb-ego-{}-statistics.pkl'.format(graph_name)\n",
    "    \n",
    "    network_statistics = None\n",
    "    with open(graph_statistics_dir, 'rb') as f:\n",
    "        network_statistics = pickle.load(f)\n",
    "        \n",
    "    print 'FB Graph: ' + graph_name\n",
    "    for statistic, value in network_statistics.iteritems():\n",
    "        print statistic + ': ' + str(value)"
   ]
  },
  {
   "cell_type": "code",
   "execution_count": 136,
   "metadata": {},
   "outputs": [
    {
     "data": {
      "image/png": "[encoded data removed]",
      "text/plain": [
       "<matplotlib.figure.Figure at 0x11e896810>"
      ]
     },
     "metadata": {},
     "output_type": "display_data"
    },
    {
     "name": "stdout",
     "output_type": "stream",
     "text": [
      "FB Graph: combined\n",
      "diameter: 8\n",
      "density: 0.0108199635034\n",
      "avg_degree: 43.6910126269\n",
      "num_edges: 88234\n",
      "num_nodes: 4039\n",
      "avg_clustering_coef: 0.60554671862\n",
      "num_connected_components: 1\n",
      "transitivity: 0.519174277543\n"
     ]
    }
   ],
   "source": [
    "# Display bar plot + network statistics\n",
    "bar_plot('combined', 0.5, 'test_roc')\n",
    "display_fb_network_statistics('combined')"
   ]
  },
  {
   "cell_type": "markdown",
   "metadata": {},
   "source": [
    "## 3. Plot ROC Curves"
   ]
  },
  {
   "cell_type": "code",
   "execution_count": 145,
   "metadata": {
    "collapsed": true
   },
   "outputs": [],
   "source": [
    "# Plot ROC curve given graph_name, frac_hidden, and link prediction method (e.g. aa, for adamic-adar)\n",
    "def show_roc_curve(graph_name, frac_hidden, method):\n",
    "    results_dict = fb_results['fb-{}-{}-hidden'.format(graph_name, frac_hidden)]\n",
    "    roc_curve = results_dict[method]['test_roc_curve']\n",
    "    test_roc = results_dict[method]['test_roc']\n",
    "    fpr, tpr, _ = roc_curve\n",
    "        \n",
    "    plt.figure()\n",
    "    lw = 2\n",
    "    plt.plot(fpr, tpr, color='darkorange',\n",
    "             lw=lw, label='ROC curve (area = %0.2f)' % test_roc)\n",
    "    plt.plot([0, 1], [0, 1], color='navy', lw=lw, linestyle='--')\n",
    "    plt.xlim([0.0, 1.0])\n",
    "    plt.ylim([0.0, 1.05])\n",
    "    plt.xlabel('False Positive Rate')\n",
    "    plt.ylabel('True Positive Rate')\n",
    "    plt.title('ROC Curve:\\nFB {} graph, {} hidden, {}'.format(graph_name, frac_hidden, method))\n",
    "    plt.legend(loc=\"lower right\")\n",
    "    plt.show()"
   ]
  },
  {
   "cell_type": "code",
   "execution_count": 146,
   "metadata": {},
   "outputs": [
    {
     "data": {
      "image/png": "[encoded data removed]",
      "text/plain": [
       "<matplotlib.figure.Figure at 0x11ee6a290>"
      ]
     },
     "metadata": {},
     "output_type": "display_data"
    }
   ],
   "source": [
    "# Try it out!\n",
    "show_roc_curve('combined', 0.75, 'n2v_edge_emb')"
   ]
  },
  {
   "cell_type": "code",
   "execution_count": null,
   "metadata": {
    "collapsed": true
   },
   "outputs": [],
   "source": []
  }
 ],
 "metadata": {
  "kernelspec": {
   "display_name": "Python [conda env:gae]",
   "language": "python",
   "name": "conda-env-gae-py"
  },
  "language_info": {
   "codemirror_mode": {
    "name": "ipython",
    "version": 2
   },
   "file_extension": ".py",
   "mimetype": "text/x-python",
   "name": "python",
   "nbconvert_exporter": "python",
   "pygments_lexer": "ipython2",
   "version": "2.7.13"
  }
 },
 "nbformat": 4,
 "nbformat_minor": 2
}

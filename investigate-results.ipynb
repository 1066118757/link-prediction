{
 "cells": [
  {
   "cell_type": "markdown",
   "metadata": {},
   "source": [
    "# Investigate Results\n",
    "----\n",
    "Load in `results` files and...\n",
    "1. Take a peek at raw **test ROC results**\n",
    "2. Generate **bar plots** of each link prediction method given an inputted network, visibility value (pct. hidden edges), and metric (e.g. test ROC), along with some pre-calculated network statistics (e.g. num. nodes, avg. clustering coefficient, etc.)\n",
    "3. Plot **ROC curves** for inputted network, visibility, and link prediction method"
   ]
  },
  {
   "cell_type": "markdown",
   "metadata": {},
   "source": [
    "## 1. Investigate ROC Results"
   ]
  },
  {
   "cell_type": "code",
   "execution_count": 13,
   "metadata": {
    "collapsed": true
   },
   "outputs": [],
   "source": [
    "import networkx as nx\n",
    "import matplotlib.pyplot as plt\n",
    "import link_prediction_scores as lp\n",
    "import pickle\n",
    "\n",
    "RANDOM_SEED = 0"
   ]
  },
  {
   "cell_type": "code",
   "execution_count": 20,
   "metadata": {
    "collapsed": true
   },
   "outputs": [],
   "source": [
    "fb_results = None\n",
    "with open('./results/fb-experiment-4-results.pkl', 'rb') as f:\n",
    "    fb_results = pickle.load(f)"
   ]
  },
  {
   "cell_type": "code",
   "execution_count": 21,
   "metadata": {
    "collapsed": true
   },
   "outputs": [],
   "source": [
    "roc = {}\n",
    "for experiment_name, method_dict in fb_results.iteritems():\n",
    "    for method, results in method_dict.iteritems():\n",
    "        experiment_method = experiment_name + '-' + method\n",
    "        roc[experiment_method] = results['test_roc']"
   ]
  },
  {
   "cell_type": "code",
   "execution_count": 22,
   "metadata": {},
   "outputs": [
    {
     "data": {
      "text/plain": [
       "{'fb-0-0.25-hidden-aa': 0.94809308795322789,\n",
       " 'fb-0-0.25-hidden-gae_dot_prod': 0.86313375823865335,\n",
       " 'fb-0-0.25-hidden-gae_edge_emb': 0.88466156997625522,\n",
       " 'fb-0-0.25-hidden-jc': 0.80814057737134659,\n",
       " 'fb-0-0.25-hidden-n2v_dot_prod': 0.8115419933601753,\n",
       " 'fb-0-0.25-hidden-n2v_edge_emb': 0.92129471150450182,\n",
       " 'fb-0-0.25-hidden-pa': 0.87182747322607468,\n",
       " 'fb-0-0.25-hidden-sc': 0.84677870691856716,\n",
       " 'fb-0-0.5-hidden-aa': 0.89122115317257988,\n",
       " 'fb-0-0.5-hidden-gae_dot_prod': 0.87800879605517657,\n",
       " 'fb-0-0.5-hidden-gae_edge_emb': 0.8666078841649687,\n",
       " 'fb-0-0.5-hidden-jc': 0.76956612117723378,\n",
       " 'fb-0-0.5-hidden-n2v_dot_prod': 0.7823593103259231,\n",
       " 'fb-0-0.5-hidden-n2v_edge_emb': 0.9095906849532025,\n",
       " 'fb-0-0.5-hidden-pa': 0.8410207444362211,\n",
       " 'fb-0-0.5-hidden-sc': 0.85001172604308484,\n",
       " 'fb-0-0.75-hidden-aa': 0.69853800528634769,\n",
       " 'fb-0-0.75-hidden-gae_dot_prod': 0.83434331955406393,\n",
       " 'fb-0-0.75-hidden-gae_edge_emb': 0.82180497276642583,\n",
       " 'fb-0-0.75-hidden-jc': 0.65428835053723,\n",
       " 'fb-0-0.75-hidden-n2v_dot_prod': 0.67202118000233058,\n",
       " 'fb-0-0.75-hidden-n2v_edge_emb': 0.83077515024326198,\n",
       " 'fb-0-0.75-hidden-pa': 0.81283695851566917,\n",
       " 'fb-0-0.75-hidden-sc': 0.80727847699654232,\n",
       " 'fb-107-0.25-hidden-aa': 0.96965049056816977,\n",
       " 'fb-107-0.25-hidden-gae_dot_prod': 0.93338569451239228,\n",
       " 'fb-107-0.25-hidden-gae_edge_emb': 0.94588977881669078,\n",
       " 'fb-107-0.25-hidden-jc': 0.95674670685255792,\n",
       " 'fb-107-0.25-hidden-n2v_dot_prod': 0.90682912939346427,\n",
       " 'fb-107-0.25-hidden-n2v_edge_emb': 0.96060932670700327,\n",
       " 'fb-107-0.25-hidden-pa': 0.81960950512471931,\n",
       " 'fb-107-0.25-hidden-sc': 0.94464957143788397,\n",
       " 'fb-107-0.5-hidden-aa': 0.95779777870917215,\n",
       " 'fb-107-0.5-hidden-gae_dot_prod': 0.93756219116614448,\n",
       " 'fb-107-0.5-hidden-gae_edge_emb': 0.94080476332881346,\n",
       " 'fb-107-0.5-hidden-jc': 0.93702844868310464,\n",
       " 'fb-107-0.5-hidden-n2v_dot_prod': 0.88583476951332918,\n",
       " 'fb-107-0.5-hidden-n2v_edge_emb': 0.95403820521314231,\n",
       " 'fb-107-0.5-hidden-pa': 0.82192689111615325,\n",
       " 'fb-107-0.5-hidden-sc': 0.93718989680274711,\n",
       " 'fb-107-0.75-hidden-aa': 0.8801685815919631,\n",
       " 'fb-107-0.75-hidden-gae_dot_prod': 0.92745023692541106,\n",
       " 'fb-107-0.75-hidden-gae_edge_emb': 0.92887751338809132,\n",
       " 'fb-107-0.75-hidden-jc': 0.84925346272984625,\n",
       " 'fb-107-0.75-hidden-n2v_dot_prod': 0.84774863870790074,\n",
       " 'fb-107-0.75-hidden-n2v_edge_emb': 0.92524736078172543,\n",
       " 'fb-107-0.75-hidden-pa': 0.81153376001587552,\n",
       " 'fb-107-0.75-hidden-sc': 0.93150598193477052,\n",
       " 'fb-1684-0.25-hidden-aa': 0.95465118068962618,\n",
       " 'fb-1684-0.25-hidden-gae_dot_prod': 0.90358727591931109,\n",
       " 'fb-1684-0.25-hidden-gae_edge_emb': 0.90579537251654973,\n",
       " 'fb-1684-0.25-hidden-jc': 0.92675254249097272,\n",
       " 'fb-1684-0.25-hidden-n2v_dot_prod': 0.90051736946872007,\n",
       " 'fb-1684-0.25-hidden-n2v_edge_emb': 0.94234279413539912,\n",
       " 'fb-1684-0.25-hidden-pa': 0.81214459204696332,\n",
       " 'fb-1684-0.25-hidden-sc': 0.92018344498716298,\n",
       " 'fb-1684-0.5-hidden-aa': 0.93080112021718175,\n",
       " 'fb-1684-0.5-hidden-gae_dot_prod': 0.8960244893454189,\n",
       " 'fb-1684-0.5-hidden-gae_edge_emb': 0.90308847936565839,\n",
       " 'fb-1684-0.5-hidden-jc': 0.89490901908781817,\n",
       " 'fb-1684-0.5-hidden-n2v_dot_prod': 0.88507918393679552,\n",
       " 'fb-1684-0.5-hidden-n2v_edge_emb': 0.93225672027226558,\n",
       " 'fb-1684-0.5-hidden-pa': 0.80477210264200094,\n",
       " 'fb-1684-0.5-hidden-sc': 0.90409703704218369,\n",
       " 'fb-1684-0.75-hidden-aa': 0.81737483676939815,\n",
       " 'fb-1684-0.75-hidden-gae_dot_prod': 0.89393555855328355,\n",
       " 'fb-1684-0.75-hidden-gae_edge_emb': 0.88698332594684515,\n",
       " 'fb-1684-0.75-hidden-jc': 0.78763980141669609,\n",
       " 'fb-1684-0.75-hidden-n2v_dot_prod': 0.83740926750840283,\n",
       " 'fb-1684-0.75-hidden-n2v_edge_emb': 0.89875206093798687,\n",
       " 'fb-1684-0.75-hidden-pa': 0.79477606540654255,\n",
       " 'fb-1684-0.75-hidden-sc': 0.89312430111422747,\n",
       " 'fb-1912-0.25-hidden-aa': 0.97513915036242249,\n",
       " 'fb-1912-0.25-hidden-gae_dot_prod': 0.95430355061238648,\n",
       " 'fb-1912-0.25-hidden-gae_edge_emb': 0.95755372703518837,\n",
       " 'fb-1912-0.25-hidden-jc': 0.97012190776907237,\n",
       " 'fb-1912-0.25-hidden-n2v_dot_prod': 0.89774143629904257,\n",
       " 'fb-1912-0.25-hidden-n2v_edge_emb': 0.96015539749160861,\n",
       " 'fb-1912-0.25-hidden-pa': 0.84792073009086921,\n",
       " 'fb-1912-0.25-hidden-sc': 0.9424804668304726,\n",
       " 'fb-1912-0.5-hidden-aa': 0.96815873571524158,\n",
       " 'fb-1912-0.5-hidden-gae_dot_prod': 0.95364850047772431,\n",
       " 'fb-1912-0.5-hidden-gae_edge_emb': 0.95417337311976547,\n",
       " 'fb-1912-0.5-hidden-jc': 0.96089963684088076,\n",
       " 'fb-1912-0.5-hidden-n2v_dot_prod': 0.89237498778246016,\n",
       " 'fb-1912-0.5-hidden-n2v_edge_emb': 0.95936182326439157,\n",
       " 'fb-1912-0.5-hidden-pa': 0.84443136534360475,\n",
       " 'fb-1912-0.5-hidden-sc': 0.94799251502836568,\n",
       " 'fb-1912-0.75-hidden-aa': 0.93488168454781007,\n",
       " 'fb-1912-0.75-hidden-gae_dot_prod': 0.94868182650792066,\n",
       " 'fb-1912-0.75-hidden-gae_edge_emb': 0.94728324568582245,\n",
       " 'fb-1912-0.75-hidden-jc': 0.91674438537904734,\n",
       " 'fb-1912-0.75-hidden-n2v_dot_prod': 0.87348343834143993,\n",
       " 'fb-1912-0.75-hidden-n2v_edge_emb': 0.95018131668111205,\n",
       " 'fb-1912-0.75-hidden-pa': 0.84074141926569024,\n",
       " 'fb-1912-0.75-hidden-sc': 0.94370854091706169,\n",
       " 'fb-3437-0.25-hidden-aa': 0.95248802628647811,\n",
       " 'fb-3437-0.25-hidden-gae_dot_prod': 0.91371423355857528,\n",
       " 'fb-3437-0.25-hidden-gae_edge_emb': 0.908564299151011,\n",
       " 'fb-3437-0.25-hidden-jc': 0.87963014529343331,\n",
       " 'fb-3437-0.25-hidden-n2v_dot_prod': 0.88259727481993033,\n",
       " 'fb-3437-0.25-hidden-n2v_edge_emb': 0.95219177743125161,\n",
       " 'fb-3437-0.25-hidden-pa': 0.79523402886067174,\n",
       " 'fb-3437-0.25-hidden-sc': 0.9020398628746813,\n",
       " 'fb-3437-0.5-hidden-aa': 0.91123538528207826,\n",
       " 'fb-3437-0.5-hidden-gae_dot_prod': 0.90130029220733998,\n",
       " 'fb-3437-0.5-hidden-gae_edge_emb': 0.89516789739502101,\n",
       " 'fb-3437-0.5-hidden-jc': 0.84069391846736463,\n",
       " 'fb-3437-0.5-hidden-n2v_dot_prod': 0.85208906928742478,\n",
       " 'fb-3437-0.5-hidden-n2v_edge_emb': 0.94580350057083984,\n",
       " 'fb-3437-0.5-hidden-pa': 0.78538391154071052,\n",
       " 'fb-3437-0.5-hidden-sc': 0.89363300394018708,\n",
       " 'fb-3437-0.75-hidden-aa': 0.73486874885486031,\n",
       " 'fb-3437-0.75-hidden-gae_dot_prod': 0.86760128473151332,\n",
       " 'fb-3437-0.75-hidden-gae_edge_emb': 0.87806909822959733,\n",
       " 'fb-3437-0.75-hidden-jc': 0.70208096616186055,\n",
       " 'fb-3437-0.75-hidden-n2v_dot_prod': 0.79950513483979901,\n",
       " 'fb-3437-0.75-hidden-n2v_edge_emb': 0.91428109606520069,\n",
       " 'fb-3437-0.75-hidden-pa': 0.76185363861167532,\n",
       " 'fb-3437-0.75-hidden-sc': 0.86708893765298733,\n",
       " 'fb-348-0.25-hidden-aa': 0.91653060913085938,\n",
       " 'fb-348-0.25-hidden-gae_dot_prod': 0.84972000122070312,\n",
       " 'fb-348-0.25-hidden-gae_edge_emb': 0.86781692504882812,\n",
       " 'fb-348-0.25-hidden-jc': 0.88858413696289062,\n",
       " 'fb-348-0.25-hidden-n2v_dot_prod': 0.76236724853515625,\n",
       " 'fb-348-0.25-hidden-n2v_edge_emb': 0.8210601806640625,\n",
       " 'fb-348-0.25-hidden-pa': 0.82325935363769531,\n",
       " 'fb-348-0.25-hidden-sc': 0.76077079772949219,\n",
       " 'fb-348-0.5-hidden-aa': 0.90077321587487269,\n",
       " 'fb-348-0.5-hidden-gae_dot_prod': 0.82225827839731491,\n",
       " 'fb-348-0.5-hidden-gae_edge_emb': 0.82359076336404824,\n",
       " 'fb-348-0.5-hidden-jc': 0.85595302375087567,\n",
       " 'fb-348-0.5-hidden-n2v_dot_prod': 0.71383895340530179,\n",
       " 'fb-348-0.5-hidden-n2v_edge_emb': 0.81760260803161999,\n",
       " 'fb-348-0.5-hidden-pa': 0.83278517720177092,\n",
       " 'fb-348-0.5-hidden-sc': 0.75375811598398668,\n",
       " 'fb-348-0.75-hidden-aa': 0.77228836745060636,\n",
       " 'fb-348-0.75-hidden-gae_dot_prod': 0.78329462109127201,\n",
       " 'fb-348-0.75-hidden-gae_edge_emb': 0.79881347720730667,\n",
       " 'fb-348-0.75-hidden-jc': 0.72670358845065419,\n",
       " 'fb-348-0.75-hidden-n2v_dot_prod': 0.61282640415256651,\n",
       " 'fb-348-0.75-hidden-n2v_edge_emb': 0.78042928055181759,\n",
       " 'fb-348-0.75-hidden-pa': 0.82337120975823963,\n",
       " 'fb-348-0.75-hidden-sc': 0.68677637340691766,\n",
       " 'fb-3980-0.25-hidden-aa': 0.93944444444444453,\n",
       " 'fb-3980-0.25-hidden-gae_dot_prod': 0.84222222222222243,\n",
       " 'fb-3980-0.25-hidden-gae_edge_emb': 0.72444444444444445,\n",
       " 'fb-3980-0.25-hidden-jc': 0.66444444444444439,\n",
       " 'fb-3980-0.25-hidden-n2v_dot_prod': 0.6366666666666666,\n",
       " 'fb-3980-0.25-hidden-n2v_edge_emb': 0.59333333333333338,\n",
       " 'fb-3980-0.25-hidden-pa': 0.88777777777777778,\n",
       " 'fb-3980-0.25-hidden-sc': 0.20444444444444446,\n",
       " 'fb-3980-0.5-hidden-aa': 0.75632064247471731,\n",
       " 'fb-3980-0.5-hidden-gae_dot_prod': 0.55785246876859007,\n",
       " 'fb-3980-0.5-hidden-gae_edge_emb': 0.53926234384295069,\n",
       " 'fb-3980-0.5-hidden-jc': 0.62596668649613318,\n",
       " 'fb-3980-0.5-hidden-n2v_dot_prod': 0.59934562760261756,\n",
       " 'fb-3980-0.5-hidden-n2v_edge_emb': 0.66210588935157644,\n",
       " 'fb-3980-0.5-hidden-pa': 0.81060380725758485,\n",
       " 'fb-3980-0.5-hidden-sc': 0.19727840571088637,\n",
       " 'fb-3980-0.75-hidden-aa': 0.57222002374356939,\n",
       " 'fb-3980-0.75-hidden-gae_dot_prod': 0.50562496466730733,\n",
       " 'fb-3980-0.75-hidden-gae_edge_emb': 0.50110238001017582,\n",
       " 'fb-3980-0.75-hidden-jc': 0.54765673582452368,\n",
       " 'fb-3980-0.75-hidden-n2v_dot_prod': 0.59455028548815647,\n",
       " 'fb-3980-0.75-hidden-n2v_edge_emb': 0.61167957487704216,\n",
       " 'fb-3980-0.75-hidden-pa': 0.78591214879303517,\n",
       " 'fb-3980-0.75-hidden-sc': 0.2770365764034145,\n",
       " 'fb-414-0.25-hidden-aa': 0.95009057852963019,\n",
       " 'fb-414-0.25-hidden-gae_dot_prod': 0.92318419372075744,\n",
       " 'fb-414-0.25-hidden-gae_edge_emb': 0.92236312215720262,\n",
       " 'fb-414-0.25-hidden-jc': 0.91574893456189976,\n",
       " 'fb-414-0.25-hidden-n2v_dot_prod': 0.85515254988335554,\n",
       " 'fb-414-0.25-hidden-n2v_edge_emb': 0.89779613966036309,\n",
       " 'fb-414-0.25-hidden-pa': 0.79284234122691555,\n",
       " 'fb-414-0.25-hidden-sc': 0.71676940921946075,\n",
       " 'fb-414-0.5-hidden-aa': 0.92290997078159254,\n",
       " 'fb-414-0.5-hidden-gae_dot_prod': 0.9199707815924032,\n",
       " 'fb-414-0.5-hidden-gae_edge_emb': 0.91845872899926939,\n",
       " 'fb-414-0.5-hidden-jc': 0.87781318480642812,\n",
       " 'fb-414-0.5-hidden-n2v_dot_prod': 0.87912162162162166,\n",
       " 'fb-414-0.5-hidden-n2v_edge_emb': 0.90175127830533242,\n",
       " 'fb-414-0.5-hidden-pa': 0.78914444850255661,\n",
       " 'fb-414-0.5-hidden-sc': 0.64800493060628195,\n",
       " 'fb-414-0.75-hidden-aa': 0.77930520056190911,\n",
       " 'fb-414-0.75-hidden-gae_dot_prod': 0.91103772848289344,\n",
       " 'fb-414-0.75-hidden-gae_edge_emb': 0.9040864173730262,\n",
       " 'fb-414-0.75-hidden-jc': 0.74714294894517652,\n",
       " 'fb-414-0.75-hidden-n2v_dot_prod': 0.83240430373221841,\n",
       " 'fb-414-0.75-hidden-n2v_edge_emb': 0.86900440779458943,\n",
       " 'fb-414-0.75-hidden-pa': 0.76140522896140095,\n",
       " 'fb-414-0.75-hidden-sc': 0.6330295071409866,\n",
       " 'fb-686-0.25-hidden-aa': 0.91579787733633888,\n",
       " 'fb-686-0.25-hidden-gae_dot_prod': 0.78679440217901764,\n",
       " 'fb-686-0.25-hidden-gae_edge_emb': 0.80730990621100507,\n",
       " 'fb-686-0.25-hidden-jc': 0.84082706060728041,\n",
       " 'fb-686-0.25-hidden-n2v_dot_prod': 0.75315648942022573,\n",
       " 'fb-686-0.25-hidden-n2v_edge_emb': 0.78098458318238539,\n",
       " 'fb-686-0.25-hidden-pa': 0.82827489970347101,\n",
       " 'fb-686-0.25-hidden-sc': 0.64667444887225112,\n",
       " 'fb-686-0.5-hidden-aa': 0.85982829799211857,\n",
       " 'fb-686-0.5-hidden-gae_dot_prod': 0.82693563520360291,\n",
       " 'fb-686-0.5-hidden-gae_edge_emb': 0.82570088196659774,\n",
       " 'fb-686-0.5-hidden-jc': 0.77507787577406639,\n",
       " 'fb-686-0.5-hidden-n2v_dot_prod': 0.71212610245824726,\n",
       " 'fb-686-0.5-hidden-n2v_edge_emb': 0.80279789829236248,\n",
       " 'fb-686-0.5-hidden-pa': 0.81156033026834296,\n",
       " 'fb-686-0.5-hidden-sc': 0.66299024207168333,\n",
       " 'fb-686-0.75-hidden-aa': 0.72266201524815943,\n",
       " 'fb-686-0.75-hidden-gae_dot_prod': 0.66082834019149783,\n",
       " 'fb-686-0.75-hidden-gae_edge_emb': 0.72925701480737892,\n",
       " 'fb-686-0.75-hidden-jc': 0.67680627557592943,\n",
       " 'fb-686-0.75-hidden-n2v_dot_prod': 0.57923810390474595,\n",
       " 'fb-686-0.75-hidden-n2v_edge_emb': 0.70731894588069355,\n",
       " 'fb-686-0.75-hidden-pa': 0.8024816649556803,\n",
       " 'fb-686-0.75-hidden-sc': 0.63010203356187566,\n",
       " 'fb-698-0.25-hidden-aa': 0.89660000000000006,\n",
       " 'fb-698-0.25-hidden-gae_dot_prod': 0.91400000000000003,\n",
       " 'fb-698-0.25-hidden-gae_edge_emb': 0.90599999999999992,\n",
       " 'fb-698-0.25-hidden-jc': 0.80220000000000002,\n",
       " 'fb-698-0.25-hidden-n2v_dot_prod': 0.86439999999999995,\n",
       " 'fb-698-0.25-hidden-n2v_edge_emb': 0.89439999999999997,\n",
       " 'fb-698-0.25-hidden-pa': 0.754,\n",
       " 'fb-698-0.25-hidden-sc': 0.36000000000000004,\n",
       " 'fb-698-0.5-hidden-aa': 0.83005680552461558,\n",
       " 'fb-698-0.5-hidden-gae_dot_prod': 0.84556694141234123,\n",
       " 'fb-698-0.5-hidden-gae_edge_emb': 0.85024504343951879,\n",
       " 'fb-698-0.5-hidden-jc': 0.69096680775228336,\n",
       " 'fb-698-0.5-hidden-n2v_dot_prod': 0.84757184228113169,\n",
       " 'fb-698-0.5-hidden-n2v_edge_emb': 0.84991089329472047,\n",
       " 'fb-698-0.5-hidden-pa': 0.76720873245711751,\n",
       " 'fb-698-0.5-hidden-sc': 0.44675874359545559,\n",
       " 'fb-698-0.75-hidden-aa': 0.6348792189209661,\n",
       " 'fb-698-0.75-hidden-gae_dot_prod': 0.72296103021631164,\n",
       " 'fb-698-0.75-hidden-gae_edge_emb': 0.71298712229610306,\n",
       " 'fb-698-0.75-hidden-jc': 0.60294798417641604,\n",
       " 'fb-698-0.75-hidden-n2v_dot_prod': 0.72081474623348207,\n",
       " 'fb-698-0.75-hidden-n2v_edge_emb': 0.69078781247369747,\n",
       " 'fb-698-0.75-hidden-pa': 0.6897041494823668,\n",
       " 'fb-698-0.75-hidden-sc': 0.43947268748421847,\n",
       " 'fb-combined-0.25-hidden-aa': 0.99100067950131099,\n",
       " 'fb-combined-0.25-hidden-gae_dot_prod': 0.96010687052752619,\n",
       " 'fb-combined-0.25-hidden-gae_edge_emb': 0.95612074828208615,\n",
       " 'fb-combined-0.25-hidden-jc': 0.987829393648197,\n",
       " 'fb-combined-0.25-hidden-n2v_dot_prod': 0.96562544306382736,\n",
       " 'fb-combined-0.25-hidden-n2v_edge_emb': 0.99175644594981682,\n",
       " 'fb-combined-0.25-hidden-pa': 0.83322155981588231,\n",
       " 'fb-combined-0.25-hidden-sc': 0.985237058325932,\n",
       " 'fb-combined-0.5-hidden-aa': 0.97547464490627078,\n",
       " 'fb-combined-0.5-hidden-gae_dot_prod': 0.96457013401623803,\n",
       " 'fb-combined-0.5-hidden-gae_edge_emb': 0.9617561089030251,\n",
       " 'fb-combined-0.5-hidden-jc': 0.97116067621063495,\n",
       " 'fb-combined-0.5-hidden-n2v_dot_prod': 0.96717998937390481,\n",
       " 'fb-combined-0.5-hidden-n2v_edge_emb': 0.99062666593713078,\n",
       " 'fb-combined-0.5-hidden-pa': 0.82994918041028243,\n",
       " 'fb-combined-0.5-hidden-sc': 0.9845492095084849,\n",
       " 'fb-combined-0.75-hidden-aa': 0.89410605612892569,\n",
       " 'fb-combined-0.75-hidden-gae_dot_prod': 0.94630357246727914,\n",
       " 'fb-combined-0.75-hidden-gae_edge_emb': 0.95181087991246782,\n",
       " 'fb-combined-0.75-hidden-jc': 0.88882360224363044,\n",
       " 'fb-combined-0.75-hidden-n2v_dot_prod': 0.96409888967263491,\n",
       " 'fb-combined-0.75-hidden-n2v_edge_emb': 0.98608067416657186,\n",
       " 'fb-combined-0.75-hidden-pa': 0.82380709780992201,\n",
       " 'fb-combined-0.75-hidden-sc': 0.98158306515644711}"
      ]
     },
     "execution_count": 22,
     "metadata": {},
     "output_type": "execute_result"
    }
   ],
   "source": [
    "roc"
   ]
  },
  {
   "cell_type": "markdown",
   "metadata": {},
   "source": [
    "## 2. Generate Bar Plots with Network Statistics"
   ]
  },
  {
   "cell_type": "code",
   "execution_count": 27,
   "metadata": {
    "collapsed": true
   },
   "outputs": [],
   "source": [
    "# Generate bar plot given graph name (which ego network), frac_hidden, and metric to investigate (e.g. test ROC)\n",
    "def bar_plot(graph_name, frac_hidden, metric):\n",
    "    results_dict = fb_results['fb-{}-{}-hidden'.format(graph_name, frac_hidden)]\n",
    "    metric_dict = {}\n",
    "    for method, results_dict in results_dict.iteritems():\n",
    "        metric_dict[method] = results_dict[metric]\n",
    "        \n",
    "    plt.figure(figsize=(12, 4))\n",
    "    plt.bar(range(len(metric_dict)), metric_dict.values())\n",
    "    plt.xticks(range(len(metric_dict)), list(metric_dict.keys()))\n",
    "    plt.grid(linestyle='dashed')\n",
    "    plt.xlabel(\"Link prediction methods\")\n",
    "    plt.ylabel(\"Metric: {}\".format(metric))\n",
    "    plt.title(\"Link Prediction Results: FB {} graph, {} hidden\".format(graph_name, frac_hidden))\n",
    "    plt.show()"
   ]
  },
  {
   "cell_type": "code",
   "execution_count": 28,
   "metadata": {
    "collapsed": true
   },
   "outputs": [],
   "source": [
    "# Display network statistics for given network\n",
    "def display_fb_network_statistics(graph_name):\n",
    "    if graph_name == 'combined':\n",
    "        graph_statistics_dir = './network-statistics/fb-combined-statistics.pkl'\n",
    "    else:\n",
    "        graph_statistics_dir = './network-statistics/fb-ego-{}-statistics.pkl'.format(graph_name)\n",
    "    \n",
    "    network_statistics = None\n",
    "    with open(graph_statistics_dir, 'rb') as f:\n",
    "        network_statistics = pickle.load(f)\n",
    "        \n",
    "    print 'FB Graph: ' + graph_name\n",
    "    for statistic, value in network_statistics.iteritems():\n",
    "        print statistic + ': ' + str(value)"
   ]
  },
  {
   "cell_type": "code",
   "execution_count": 29,
   "metadata": {},
   "outputs": [
    {
     "data": {
      "image/png": "[encoded data removed]",
      "text/plain": [
       "<matplotlib.figure.Figure at 0x125da2450>"
      ]
     },
     "metadata": {},
     "output_type": "display_data"
    },
    {
     "name": "stdout",
     "output_type": "stream",
     "text": [
      "FB Graph: combined\n",
      "diameter: 8\n",
      "density: 0.0108199635034\n",
      "avg_degree: 43.6910126269\n",
      "num_edges: 88234\n",
      "num_nodes: 4039\n",
      "avg_clustering_coef: 0.60554671862\n",
      "num_connected_components: 1\n",
      "transitivity: 0.519174277543\n"
     ]
    }
   ],
   "source": [
    "# Display bar plot + network statistics\n",
    "bar_plot('combined', 0.5, 'test_roc')\n",
    "display_fb_network_statistics('combined')"
   ]
  },
  {
   "cell_type": "markdown",
   "metadata": {},
   "source": [
    "## 3. Plot ROC Curves"
   ]
  },
  {
   "cell_type": "code",
   "execution_count": 145,
   "metadata": {
    "collapsed": true
   },
   "outputs": [],
   "source": [
    "# Plot ROC curve given graph_name, frac_hidden, and link prediction method (e.g. aa, for adamic-adar)\n",
    "def show_roc_curve(graph_name, frac_hidden, method):\n",
    "    results_dict = fb_results['fb-{}-{}-hidden'.format(graph_name, frac_hidden)]\n",
    "    roc_curve = results_dict[method]['test_roc_curve']\n",
    "    test_roc = results_dict[method]['test_roc']\n",
    "    fpr, tpr, _ = roc_curve\n",
    "        \n",
    "    plt.figure()\n",
    "    lw = 2\n",
    "    plt.plot(fpr, tpr, color='darkorange',\n",
    "             lw=lw, label='ROC curve (area = %0.2f)' % test_roc)\n",
    "    plt.plot([0, 1], [0, 1], color='navy', lw=lw, linestyle='--')\n",
    "    plt.xlim([0.0, 1.0])\n",
    "    plt.ylim([0.0, 1.05])\n",
    "    plt.xlabel('False Positive Rate')\n",
    "    plt.ylabel('True Positive Rate')\n",
    "    plt.title('ROC Curve:\\nFB {} graph, {} hidden, {}'.format(graph_name, frac_hidden, method))\n",
    "    plt.legend(loc=\"lower right\")\n",
    "    plt.show()"
   ]
  },
  {
   "cell_type": "code",
   "execution_count": 146,
   "metadata": {},
   "outputs": [
    {
     "data": {
      "image/png": "[encoded data removed]",
      "text/plain": [
       "<matplotlib.figure.Figure at 0x11ee6a290>"
      ]
     },
     "metadata": {},
     "output_type": "display_data"
    }
   ],
   "source": [
    "# Try it out!\n",
    "show_roc_curve('combined', 0.75, 'n2v_edge_emb')"
   ]
  },
  {
   "cell_type": "code",
   "execution_count": null,
   "metadata": {
    "collapsed": true
   },
   "outputs": [],
   "source": []
  }
 ],
 "metadata": {
  "kernelspec": {
   "display_name": "Python [conda env:gae]",
   "language": "python",
   "name": "conda-env-gae-py"
  },
  "language_info": {
   "codemirror_mode": {
    "name": "ipython",
    "version": 2
   },
   "file_extension": ".py",
   "mimetype": "text/x-python",
   "name": "python",
   "nbconvert_exporter": "python",
   "pygments_lexer": "ipython2",
   "version": "2.7.13"
  }
 },
 "nbformat": 4,
 "nbformat_minor": 2
}

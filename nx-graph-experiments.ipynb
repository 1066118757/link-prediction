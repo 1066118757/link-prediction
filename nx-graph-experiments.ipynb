{
 "cells": [
  {
   "cell_type": "markdown",
   "metadata": {},
   "source": [
    "# NetworkX Random Graph Experiments\n",
    "---\n",
    "Run link prediction tests on various graph types:\n",
    "1. [Erdos-Renyi](https://networkx.github.io/documentation/networkx-1.10/reference/generated/networkx.generators.random_graphs.erdos_renyi_graph.html)\n",
    "2. [Watts-Strogatz](https://networkx.github.io/documentation/networkx-1.10/reference/generated/networkx.generators.random_graphs.watts_strogatz_graph.html)\n",
    "3. [Barabasi-Albert](https://networkx.github.io/documentation/networkx-1.11/reference/generated/networkx.generators.random_graphs.barabasi_albert_graph.html)\n",
    "4. [Powerlaw Cluster](https://networkx.github.io/documentation/networkx-1.10/reference/generated/networkx.generators.random_graphs.powerlaw_cluster_graph.html#networkx.generators.random_graphs.powerlaw_cluster_graph)\n",
    "5. [Stochastic Block Model](https://networkx.github.io/documentation/networkx-1.10/reference/generated/networkx.generators.community.random_partition_graph.html)"
   ]
  },
  {
   "cell_type": "code",
   "execution_count": null,
   "metadata": {
    "collapsed": true
   },
   "outputs": [],
   "source": [
    "import networkx as nx\n",
    "import matplotlib.pyplot as plt\n",
    "import link_prediction_scores as lp\n",
    "\n",
    "RANDOM_SEED = 0"
   ]
  },
  {
   "cell_type": "markdown",
   "metadata": {},
   "source": [
    "### Create NetworkX Graphs"
   ]
  },
  {
   "cell_type": "code",
   "execution_count": null,
   "metadata": {},
   "outputs": [],
   "source": [
    "# Dictionary to store all nx graphs\n",
    "nx_graphs = {}\n",
    "\n",
    "# Small graphs\n",
    "N_SMALL = 200\n",
    "nx_graphs['er_small'] = nx.erdos_renyi_graph(n=N_SMALL, p=.01, seed=RANDOM_SEED) # Erdos-Renyi\n",
    "nx_graphs['ws_small'] = nx.watts_strogatz_graph(n=N_SMALL, k=5, p=.1, seed=RANDOM_SEED) # Watts-Strogatz\n",
    "nx_graphs['ba_small'] = nx.barabasi_albert_graph(n=N_SMALL, m=2, seed=RANDOM_SEED) # Barabasi-Albert\n",
    "nx_graphs['pc_small'] = nx.powerlaw_cluster_graph(n=N_SMALL, m=2, p=.02, seed=RANDOM_SEED) # Powerlaw Cluster\n",
    "nx_graphs['sbm_small'] = nx.random_partition_graph(sizes=[N_SMALL/10]*10, p_in=.05, p_out=.005, seed=RANDOM_SEED) # Stochastic Block Model\n",
    "\n",
    "# Larger graphs\n",
    "N_LARGE = 1000\n",
    "nx_graphs['er_large'] = nx.erdos_renyi_graph(n=N_LARGE, p=.01, seed=RANDOM_SEED) # Erdos-Renyi\n",
    "nx_graphs['ws_large'] = nx.watts_strogatz_graph(n=N_LARGE, k=3, p=.1, seed=RANDOM_SEED) # Watts-Strogatz\n",
    "nx_graphs['ba_large'] = nx.barabasi_albert_graph(n=N_LARGE, m=2, seed=RANDOM_SEED) # Barabasi-Albert\n",
    "nx_graphs['pc_large'] = nx.powerlaw_cluster_graph(n=N_LARGE, m=2, p=.02, seed=RANDOM_SEED) # Powerlaw Cluster\n",
    "nx_graphs['sbm_large'] = nx.random_partition_graph(sizes=[N_LARGE/10]*10, p_in=.05, p_out=.005, seed=RANDOM_SEED) # Stochastic Block Model"
   ]
  },
  {
   "cell_type": "code",
   "execution_count": null,
   "metadata": {},
   "outputs": [],
   "source": [
    "# Visualize graph(s)\n",
    "nx.draw_networkx(nx_graphs['ba_large'], with_labels=False, node_size=30, node_color='r')\n",
    "plt.show()"
   ]
  },
  {
   "cell_type": "markdown",
   "metadata": {},
   "source": [
    "### Run Link Prediction Tests"
   ]
  },
  {
   "cell_type": "code",
   "execution_count": null,
   "metadata": {},
   "outputs": [],
   "source": [
    "lp_results = {}\n",
    "for g_name, nx_g in nx_graphs.iteritems():\n",
    "    adj = nx.adjacency_matrix(nx_g)\n",
    "    print \"Current graph: \" + g_name\n",
    "    lp_results[g_name] = lp.calculate_all_scores(adj, test_frac=.3, val_frac=.1, random_state=0, verbose=0)"
   ]
  },
  {
   "cell_type": "code",
   "execution_count": null,
   "metadata": {
    "collapsed": true
   },
   "outputs": [],
   "source": []
  }
 ],
 "metadata": {
  "kernelspec": {
   "display_name": "Python [conda env:gae]",
   "language": "python",
   "name": "conda-env-gae-py"
  },
  "language_info": {
   "codemirror_mode": {
    "name": "ipython",
    "version": 2
   },
   "file_extension": ".py",
   "mimetype": "text/x-python",
   "name": "python",
   "nbconvert_exporter": "python",
   "pygments_lexer": "ipython2",
   "version": "2.7.13"
  }
 },
 "nbformat": 4,
 "nbformat_minor": 2
}
